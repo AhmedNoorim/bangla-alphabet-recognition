{
 "cells": [
  {
   "cell_type": "markdown",
   "metadata": {},
   "source": [
    "# Load Libraries"
   ]
  },
  {
   "cell_type": "code",
   "execution_count": 36,
   "metadata": {},
   "outputs": [],
   "source": [
    "import numpy as np\n",
    "import tensorflow as tf\n",
    "from tensorflow.keras.preprocessing import image\n",
    "from tensorflow.keras.models import load_model\n",
    "from PIL import Image, ImageFilter"
   ]
  },
  {
   "cell_type": "markdown",
   "metadata": {},
   "source": [
    "# Preprocess Input Image"
   ]
  },
  {
   "cell_type": "code",
   "execution_count": 37,
   "metadata": {},
   "outputs": [],
   "source": [
    "def preprocess_image(img_path):\n",
    "    # Load the image\n",
    "    img = Image.open(img_path)\n",
    "\n",
    "    # Resize with a proper resampling filter\n",
    "    img_resized = img.resize((60, 60), resample=Image.Resampling.LANCZOS)\n",
    "\n",
    "    # Convert to RGB (if it was grayscale)\n",
    "    img_rgb = img_resized.convert(\"RGB\")\n",
    "\n",
    "    # Gaussian Blur\n",
    "    img_blurred = img_rgb.filter(ImageFilter.GaussianBlur(radius=2))\n",
    "\n",
    "    # Weighted Addition (enhancing the original image)\n",
    "    img_weighted = Image.blend(img_rgb, img_blurred, alpha=0.5)\n",
    "\n",
    "    # Sharpening Filter\n",
    "    sharpen_filter = ImageFilter.UnsharpMask(radius=20, percent=150)\n",
    "    img_sharpened = img_weighted.filter(sharpen_filter)\n",
    "\n",
    "    # Binary Threshold (optional, depending on your use case)\n",
    "    threshold_value = 128  # You can adjust this value as needed\n",
    "    img_binary = img_sharpened.point(\n",
    "        lambda p: 255 if p > threshold_value else 0\n",
    "    )\n",
    "\n",
    "    # Convert to array and normalize pixel values to [0, 1]\n",
    "    img_array = image.img_to_array(img_binary)  \n",
    "    img_array /= 255.0  # Normalize pixel values\n",
    "\n",
    "    return img_array"
   ]
  },
  {
   "cell_type": "markdown",
   "metadata": {},
   "source": [
    "# Load Model"
   ]
  },
  {
   "cell_type": "code",
   "execution_count": 38,
   "metadata": {},
   "outputs": [
    {
     "name": "stderr",
     "output_type": "stream",
     "text": [
      "WARNING:absl:Compiled the loaded model, but the compiled metrics have yet to be built. `model.compile_metrics` will be empty until you train or evaluate the model.\n"
     ]
    }
   ],
   "source": [
    "model = load_model('../models/CNN1_e50_mypc.h5')"
   ]
  },
  {
   "cell_type": "markdown",
   "metadata": {},
   "source": [
    "# Predict & Interpret Prediction"
   ]
  },
  {
   "cell_type": "code",
   "execution_count": 50,
   "metadata": {},
   "outputs": [
    {
     "name": "stdout",
     "output_type": "stream",
     "text": [
      "\u001b[1m1/1\u001b[0m \u001b[32m━━━━━━━━━━━━━━━━━━━━\u001b[0m\u001b[37m\u001b[0m \u001b[1m0s\u001b[0m 35ms/step\n",
      "Predicted Class Index: 17\n",
      "Predicted Class Name: ঙ\n"
     ]
    }
   ],
   "source": [
    "img_path = '../data/captured/photo_2024 umo.png'\n",
    "processed_image = preprocess_image(img_path)\n",
    "\n",
    "predictions = model.predict(np.expand_dims(processed_image, axis=0)) \n",
    "\n",
    "predicted_class_index = np.argmax(predictions[0])  # Get index of the highest predicted probability\n",
    "\n",
    "class_indices = {\n",
    "    0: 'ং', 1: 'ঃ', 2: 'অ', 3: 'আ', 4: 'ই',\n",
    "    5: 'ঈ', 6: 'উ', 7: 'ঊ', 8: 'ঋ', 9: 'এ',\n",
    "    10: 'ঐ', 11: 'ও', 12: 'ঔ', 13: 'ক', 14: 'খ',\n",
    "    15: 'গ', 16: 'ঘ', 17: 'ঙ', 18: 'চ', 19: 'ছ',\n",
    "    20: 'জ', 21: 'ঝ', 22: 'ঞ', 23: 'ট', 24: 'ঠ',\n",
    "    25: 'ড', 26: 'ড়', 27: 'ঢ', 28: 'ঢ়', 29: 'ণ',\n",
    "    30: 'ত', 31: 'থ', 32: 'দ', 33: 'ধ', 34: 'ন',\n",
    "    35: 'প', 36: 'ফ', 37: 'ব', 38: 'ভ', 39: 'ম',\n",
    "    40: 'য', 41: 'য়', 42: 'র', 43: 'ল', 44: 'শ',\n",
    "    45: 'ষ', 46: 'স', 47: 'হ', 48: 'ৎ', 49: '‍ঁ',\n",
    "}\n",
    "\n",
    "# Get predicted class name\n",
    "predicted_class_name = class_indices.get(predicted_class_index, \"Unknown Class\")\n",
    "\n",
    "# Print results\n",
    "print(f\"Predicted Class Index: {predicted_class_index}\")\n",
    "print(f\"Predicted Class Name: {predicted_class_name}\")\n",
    "# print(\"Prediction Values (Probabilities):\")\n",
    "# for i, prob in enumerate(predictions[0]):\n",
    "#     print(f\"{class_indices[i]}: {(prob*100):2f}%\")"
   ]
  },
  {
   "cell_type": "code",
   "execution_count": 51,
   "metadata": {},
   "outputs": [
    {
     "data": {
      "image/png": "[encoded data removed]",
      "text/plain": [
       "<Figure size 1000x600 with 1 Axes>"
      ]
     },
     "metadata": {},
     "output_type": "display_data"
    }
   ],
   "source": [
    "import matplotlib.pyplot as plt\n",
    "import matplotlib.font_manager as fm\n",
    "\n",
    "font_path = \"..\\\\fonts\\\\Li Shadhinata 2.0 Unicode.ttf\"\n",
    "prop_font = fm.FontProperties(fname=font_path)\n",
    "\n",
    "# Prepare data for plotting\n",
    "probabilities = [prob *100 for prob in predictions[0]] # Convert to percentage\n",
    "labels = [class_indices[i] for i in range(len(probabilities))]\n",
    "\n",
    "# Create a bar graph\n",
    "plt.figure(figsize=(10,6))\n",
    "plt.bar(labels, probabilities, color='skyblue') # Reverse for descending order\n",
    "plt.ylim(0, max(probabilities) + 10) # Set y-axis limit slightly larger than max probability\n",
    "plt.title('Top Probabilities')\n",
    "plt.ylabel('Probability (%)')\n",
    "plt.xlabel('Class Labels')\n",
    "\n",
    "# Set font properties if needed (make sure the font file path is correct)\n",
    "font_path = \"..\\\\fonts\\\\Li Shadhinata 2.0 Unicode.ttf\"\n",
    "prop_font = fm.FontProperties(fname=font_path)\n",
    "plt.xticks(fontproperties=prop_font)\n",
    "plt.yticks(fontproperties=prop_font)\n",
    "plt.title('Top Probabilities', fontproperties=prop_font)\n",
    "plt.ylabel('Probability (%)', fontproperties=prop_font)\n",
    "plt.xlabel('Class Labels', fontproperties=prop_font)\n",
    "\n",
    "# Show the plot\n",
    "plt.tight_layout()\n",
    "plt.show()"
   ]
  }
 ],
 "metadata": {
  "kernelspec": {
   "display_name": ".venv",
   "language": "python",
   "name": "python3"
  },
  "language_info": {
   "codemirror_mode": {
    "name": "ipython",
    "version": 3
   },
   "file_extension": ".py",
   "mimetype": "text/x-python",
   "name": "python",
   "nbconvert_exporter": "python",
   "pygments_lexer": "ipython3",
   "version": "3.12.2"
  }
 },
 "nbformat": 4,
 "nbformat_minor": 2
}
